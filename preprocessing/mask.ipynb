{
 "cells": [
  {
   "cell_type": "code",
   "execution_count": null,
   "metadata": {},
   "outputs": [],
   "source": [
    "import numpy as np\n",
    "import geopandas as gpd\n",
    "import shapely\n",
    "import matplotlib.pyplot as plt"
   ]
  },
  {
   "cell_type": "code",
   "execution_count": null,
   "metadata": {},
   "outputs": [],
   "source": [
    "path = '../data/shapefile/geo_export.shp'\n",
    "chicago = gpd.read_file(path)\n",
    "chicago = chicago.dissolve()\n",
    "\n",
    "xmin, ymin, xmax, ymax = chicago.total_bounds\n",
    "n_x_cells = 50\n",
    "x_cell_size = (xmax - xmin) / n_x_cells\n",
    "n_y_cells = round(((xmax - xmin)/(ymax - ymin))*n_x_cells)\n",
    "y_cell_size = (ymax - ymin) / n_y_cells\n",
    "mask_global = np.ones((n_y_cells, n_x_cells))\n",
    "x_arange = np.arange(xmin, xmax+x_cell_size, x_cell_size)\n",
    "y_arange = np.arange(ymin, ymax+y_cell_size, y_cell_size)\n",
    "for i, y0 in zip(range(n_y_cells-1, -1, -1), y_arange):\n",
    "    for j, x0 in zip(range(n_x_cells), x_arange):\n",
    "        x1 = x0-x_cell_size\n",
    "        y1 = y0+y_cell_size\n",
    "        box = shapely.geometry.box(x0, y0, x1, y1)\n",
    "        if not chicago.intersection(box).any():\n",
    "            mask_global[i,j] = 0\n",
    "            \n",
    "np.save('../data/mask_global.npy', mask_global)"
   ]
  }
 ],
 "metadata": {
  "kernelspec": {
   "display_name": "crime",
   "language": "python",
   "name": "python3"
  },
  "language_info": {
   "name": "python",
   "version": "3.9.15 (main, Nov 24 2022, 14:39:17) [MSC v.1916 64 bit (AMD64)]"
  },
  "orig_nbformat": 4,
  "vscode": {
   "interpreter": {
    "hash": "4b14694f9d98d06b4c720a75f58432860b4bffdd3460d816837e285a81284eb4"
   }
  }
 },
 "nbformat": 4,
 "nbformat_minor": 2
}
