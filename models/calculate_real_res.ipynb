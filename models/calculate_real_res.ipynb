{
 "cells": [
  {
   "cell_type": "code",
   "execution_count": 3,
   "metadata": {},
   "outputs": [],
   "source": [
    "import numpy as np\n",
    "import geopandas as gpd\n",
    "import shapely\n",
    "import matplotlib.pyplot as plt"
   ]
  },
  {
   "cell_type": "code",
   "execution_count": 6,
   "metadata": {},
   "outputs": [],
   "source": [
    "path = '../data/shapefile/geo_export.shp'\n",
    "chicago = gpd.read_file(path)\n",
    "chicago = chicago.dissolve()\n",
    "\n",
    "xmin, ymin, xmax, ymax = chicago.total_bounds\n",
    "n_x_cells = 50\n",
    "x_cell_size = (xmax - xmin) / n_x_cells\n",
    "n_y_cells = round(((xmax - xmin)/(ymax - ymin))*n_x_cells)\n",
    "y_cell_size = (ymax - ymin) / n_y_cells\n",
    "mask = np.ones((n_y_cells, n_x_cells))\n",
    "x_arange = np.arange(xmin, xmax+x_cell_size, x_cell_size)\n",
    "y_arange = np.arange(ymin, ymax+y_cell_size, y_cell_size)\n",
    "for i, y0 in zip(range(n_y_cells-1, -1, -1), y_arange):\n",
    "    for j, x0 in zip(range(n_x_cells), x_arange):\n",
    "        x1 = x0-x_cell_size\n",
    "        y1 = y0+y_cell_size\n",
    "        box = shapely.geometry.box(x0, y0, x1, y1)\n",
    "        if not chicago.intersection(box).any():\n",
    "            mask[i,j] = 0"
   ]
  },
  {
   "cell_type": "code",
   "execution_count": 34,
   "metadata": {},
   "outputs": [],
   "source": [
    "res_Cr = np.load('../data/final_pred_Cr.npy')\n",
    "res_Cr_Sev = np.load('../data/final_pred_Cr+Sev.npy')\n",
    "res_Cr_Sev_Sea = np.load('../data/final_pred_Cr+Sev+Sea.npy')\n",
    "\n",
    "res_Cr_Homo = np.load('../data/final_pred_ConvLSTM_Cr.npy')[:, :, :, 0]\n",
    "\n",
    "ground_truth = np.load('../data/test_data.npy')[7:]"
   ]
  },
  {
   "cell_type": "code",
   "execution_count": 35,
   "metadata": {},
   "outputs": [
    {
     "name": "stderr",
     "output_type": "stream",
     "text": [
      "C:\\Users\\lcdew\\AppData\\Local\\Temp\\ipykernel_3012\\727534404.py:1: RuntimeWarning: invalid value encountered in divide\n",
      "  res_Cr /= mask\n",
      "C:\\Users\\lcdew\\AppData\\Local\\Temp\\ipykernel_3012\\727534404.py:2: RuntimeWarning: invalid value encountered in divide\n",
      "  res_Cr_Sev /= mask\n",
      "C:\\Users\\lcdew\\AppData\\Local\\Temp\\ipykernel_3012\\727534404.py:3: RuntimeWarning: invalid value encountered in divide\n",
      "  res_Cr_Sev_Sea /= mask\n",
      "C:\\Users\\lcdew\\AppData\\Local\\Temp\\ipykernel_3012\\727534404.py:5: RuntimeWarning: invalid value encountered in divide\n",
      "  res_Cr_Homo /= mask\n",
      "C:\\Users\\lcdew\\AppData\\Local\\Temp\\ipykernel_3012\\727534404.py:7: RuntimeWarning: divide by zero encountered in divide\n",
      "  ground_truth /= mask\n",
      "C:\\Users\\lcdew\\AppData\\Local\\Temp\\ipykernel_3012\\727534404.py:7: RuntimeWarning: invalid value encountered in divide\n",
      "  ground_truth /= mask\n"
     ]
    }
   ],
   "source": [
    "res_Cr /= mask\n",
    "res_Cr_Sev /= mask\n",
    "res_Cr_Sev_Sea /= mask\n",
    "\n",
    "res_Cr_Homo /= mask\n",
    "\n",
    "ground_truth /= mask"
   ]
  },
  {
   "cell_type": "code",
   "execution_count": 36,
   "metadata": {},
   "outputs": [
    {
     "name": "stdout",
     "output_type": "stream",
     "text": [
      "Hetero-ConvLSTM - MSE: 0.6126\n",
      "Hetero-ConvLSTM - RMSE: 0.7827\n"
     ]
    }
   ],
   "source": [
    "mse = np.nanmean(np.square(np.subtract(ground_truth, res_Cr)))\n",
    "print(f'Hetero-ConvLSTM - MSE: {mse.mean():.4f}')\n",
    "print(f'Hetero-ConvLSTM - RMSE: {np.sqrt(mse).mean():.4f}')"
   ]
  },
  {
   "cell_type": "code",
   "execution_count": 37,
   "metadata": {},
   "outputs": [
    {
     "name": "stdout",
     "output_type": "stream",
     "text": [
      "Hetero-ConvLSTM - MSE: 0.6132\n",
      "Hetero-ConvLSTM - RMSE: 0.7830\n"
     ]
    }
   ],
   "source": [
    "mse = np.nanmean(np.square(np.subtract(ground_truth, res_Cr_Sev)))\n",
    "print(f'Hetero-ConvLSTM - MSE: {mse.mean():.4f}')\n",
    "print(f'Hetero-ConvLSTM - RMSE: {np.sqrt(mse).mean():.4f}')"
   ]
  },
  {
   "cell_type": "code",
   "execution_count": 38,
   "metadata": {},
   "outputs": [
    {
     "name": "stdout",
     "output_type": "stream",
     "text": [
      "Hetero-ConvLSTM - MSE: 0.6274\n",
      "Hetero-ConvLSTM - RMSE: 0.7921\n"
     ]
    }
   ],
   "source": [
    "mse = np.nanmean(np.square(np.subtract(ground_truth, res_Cr_Sev_Sea)))\n",
    "print(f'Hetero-ConvLSTM - MSE: {mse.mean():.4f}')\n",
    "print(f'Hetero-ConvLSTM - RMSE: {np.sqrt(mse).mean():.4f}')"
   ]
  },
  {
   "cell_type": "code",
   "execution_count": 39,
   "metadata": {},
   "outputs": [
    {
     "name": "stdout",
     "output_type": "stream",
     "text": [
      "Hetero-ConvLSTM - MSE: 0.6131\n",
      "Hetero-ConvLSTM - RMSE: 0.7830\n"
     ]
    }
   ],
   "source": [
    "mse = np.nanmean(np.square(np.subtract(ground_truth, res_Cr_Homo)))\n",
    "print(f'Hetero-ConvLSTM - MSE: {mse.mean():.4f}')\n",
    "print(f'Hetero-ConvLSTM - RMSE: {np.sqrt(mse).mean():.4f}')"
   ]
  },
  {
   "cell_type": "code",
   "execution_count": null,
   "metadata": {},
   "outputs": [],
   "source": []
  }
 ],
 "metadata": {
  "kernelspec": {
   "display_name": "Python 3",
   "language": "python",
   "name": "python3"
  },
  "language_info": {
   "codemirror_mode": {
    "name": "ipython",
    "version": 3
   },
   "file_extension": ".py",
   "mimetype": "text/x-python",
   "name": "python",
   "nbconvert_exporter": "python",
   "pygments_lexer": "ipython3",
   "version": "3.8.5"
  },
  "orig_nbformat": 4,
  "vscode": {
   "interpreter": {
    "hash": "e50ee8028be34c8acb651c2714456cdf59d4b363a9a7ee8a172e40b9213c9d80"
   }
  }
 },
 "nbformat": 4,
 "nbformat_minor": 2
}
