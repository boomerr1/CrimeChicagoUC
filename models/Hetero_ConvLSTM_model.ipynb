{
 "cells": [
  {
   "cell_type": "code",
   "execution_count": 1,
   "metadata": {},
   "outputs": [],
   "source": [
    "import tensorflow as tf\n",
    "from tensorflow.keras import Input, layers, Model\n",
    "from tensorflow.keras.preprocessing.sequence import TimeseriesGenerator\n",
    "import numpy as np\n",
    "import geopandas as gpd\n",
    "import shapely\n",
    "import matplotlib.pyplot as plt"
   ]
  },
  {
   "attachments": {},
   "cell_type": "markdown",
   "metadata": {},
   "source": [
    "### Creating Mask"
   ]
  },
  {
   "cell_type": "code",
   "execution_count": 43,
   "metadata": {},
   "outputs": [],
   "source": [
    "path = '../data/shapefile/geo_export.shp'\n",
    "chicago = gpd.read_file(path)\n",
    "chicago = chicago.dissolve()\n",
    "\n",
    "xmin, ymin, xmax, ymax = chicago.total_bounds\n",
    "n_x_cells = 50\n",
    "x_cell_size = (xmax - xmin) / n_x_cells\n",
    "n_y_cells = round(((xmax - xmin)/(ymax - ymin))*n_x_cells)\n",
    "y_cell_size = (ymax - ymin) / n_y_cells\n",
    "mask_global = np.ones((n_y_cells, n_x_cells))\n",
    "x_arange = np.arange(xmin, xmax+x_cell_size, x_cell_size)\n",
    "y_arange = np.arange(ymin, ymax+y_cell_size, y_cell_size)\n",
    "for i, y0 in zip(range(n_y_cells-1, -1, -1), y_arange):\n",
    "    for j, x0 in zip(range(n_x_cells), x_arange):\n",
    "        x1 = x0-x_cell_size\n",
    "        y1 = y0+y_cell_size\n",
    "        box = shapely.geometry.box(x0, y0, x1, y1)\n",
    "        if not chicago.intersection(box).any():\n",
    "            mask_global[i,j] = 0"
   ]
  },
  {
   "attachments": {},
   "cell_type": "markdown",
   "metadata": {},
   "source": [
    "### Creating 4 windows"
   ]
  },
  {
   "cell_type": "code",
   "execution_count": 44,
   "metadata": {},
   "outputs": [],
   "source": [
    "windows = []\n",
    "masks = []\n",
    "for i in [(0, int(2/3*55)), (55-int(2/3*55), 55)]:\n",
    "    for j in [(0, int(2/3*50)), (50-int(2/3*50), 50)]:\n",
    "\n",
    "        window = np.zeros((55,50))\n",
    "        window[i[0]:i[1], j[0]:j[1]] = 1\n",
    "        windows.append(window)\n",
    "\n",
    "        mask_cropped = mask_global[i[0]:i[1], j[0]:j[1]]\n",
    "        masks.append((mask_cropped, i, j))"
   ]
  },
  {
   "attachments": {},
   "cell_type": "markdown",
   "metadata": {},
   "source": [
    "### Training 4 Hetero-ConvLSTMS"
   ]
  },
  {
   "cell_type": "code",
   "execution_count": 75,
   "metadata": {},
   "outputs": [
    {
     "name": "stdout",
     "output_type": "stream",
     "text": [
      "912/912 [==============================] - 275s 291ms/step - loss: 0.3480 - mae: 0.2964\n",
      "90/90 [==============================] - 7s 73ms/step\n",
      "912/912 [==============================] - 277s 294ms/step - loss: 0.5698 - mae: 0.4228\n",
      "90/90 [==============================] - 7s 74ms/step\n",
      "912/912 [==============================] - 278s 295ms/step - loss: 0.2015 - mae: 0.1956\n",
      "90/90 [==============================] - 7s 72ms/step\n",
      "912/912 [==============================] - 272s 289ms/step - loss: 0.5408 - mae: 0.4028\n",
      "90/90 [==============================] - 7s 73ms/step\n"
     ]
    }
   ],
   "source": [
    "lookback = 7\n",
    "batch_size = 4\n",
    "\n",
    "train_X_crimes_only = np.load('../data/train_data.npy')\n",
    "test_X_crimes_only = np.load('../data/test_data.npy')\n",
    "\n",
    "test_preds = []\n",
    "\n",
    "for mask, i, j in masks:\n",
    "    \n",
    "    train_windowed_X = train_X_crimes_only[:, i[0]:i[1], j[0]:j[1]] * mask\n",
    "    train_windowed_X = train_windowed_X.reshape(*train_windowed_X.shape, 1)\n",
    "    test_windowed_X = test_X_crimes_only[:, i[0]:i[1], j[0]:j[1]] * mask\n",
    "    test_windowed_X = test_windowed_X.reshape(*test_windowed_X.shape, 1)\n",
    "\n",
    "    train_gen = TimeseriesGenerator(\n",
    "        train_windowed_X,\n",
    "        train_windowed_X,\n",
    "        length=lookback,\n",
    "        batch_size=batch_size,\n",
    "        shuffle=False\n",
    "    )\n",
    "    test_gen = TimeseriesGenerator(\n",
    "        test_windowed_X,\n",
    "        test_windowed_X,\n",
    "        length=lookback,\n",
    "        batch_size=batch_size,\n",
    "        shuffle=False\n",
    "    )\n",
    "\n",
    "    mask = tf.keras.backend.constant(mask)\n",
    "    mask = tf.expand_dims(mask, -1)\n",
    "\n",
    "    def masked_MSE_loss(y_true, y_pred):\n",
    "        y_pred_masked = tf.math.multiply(y_pred, mask)\n",
    "        mse = tf.keras.losses.mean_squared_error(y_true = y_true, y_pred = y_pred_masked)\n",
    "        return mse\n",
    "\n",
    "    # Define the input tensors\n",
    "    inputs = Input(shape=(lookback, *train_windowed_X.shape[1:]))\n",
    "\n",
    "    # First stack of convlstm layers\n",
    "    convlstm1 = layers.ConvLSTM2D(filters=128, kernel_size=(3, 3), padding='same', activation='tanh', return_sequences=True)(inputs)\n",
    "    bathnorm1 = layers.BatchNormalization()(convlstm1)\n",
    "    convlstm2 = layers.ConvLSTM2D(filters=128, kernel_size=(3, 3), padding='same', activation='tanh', return_sequences=False)(bathnorm1)\n",
    "\n",
    "    # Second stack of convlstm layers\n",
    "    convlstm3 = layers.ConvLSTM2D(filters=128, kernel_size=(3, 3), padding='same', activation='tanh', return_sequences=True)(inputs)\n",
    "    batchnorm2 = layers.BatchNormalization()(convlstm3)\n",
    "    convlstm4 = layers.ConvLSTM2D(filters=128, kernel_size=(3, 3), padding='same', activation='tanh', return_sequences=False)(batchnorm2)\n",
    "\n",
    "    # Concatenate outputs of two stacks\n",
    "    concatenation = layers.concatenate([convlstm2, convlstm4])\n",
    "    outputs = layers.Conv2D(filters=1, kernel_size=1, padding=\"same\", activation='linear')(concatenation)\n",
    "\n",
    "    # Create the model\n",
    "    model = Model(inputs=inputs, outputs=outputs)\n",
    "\n",
    "    # Compile the model\n",
    "    model.compile(optimizer='adam', loss=masked_MSE_loss, metrics=['mae'])\n",
    "\n",
    "    # Train the model\n",
    "    model.fit(train_gen, epochs=1)\n",
    "\n",
    "    # Create test prediction\n",
    "    test_pred = model.predict(test_gen)\n",
    "    test_pred *= mask\n",
    "\n",
    "    test_preds.append(test_pred)"
   ]
  },
  {
   "attachments": {},
   "cell_type": "markdown",
   "metadata": {},
   "source": [
    "### Use model ensemble to create final prediction"
   ]
  },
  {
   "cell_type": "code",
   "execution_count": 76,
   "metadata": {},
   "outputs": [],
   "source": [
    "ground_truth = test_X_crimes_only[7:]\n",
    "sum_pred = np.zeros_like(ground_truth)\n",
    "for (mask, i, j), test_pred in zip(masks, test_preds):\n",
    "    sum_pred[:, i[0]:i[1], j[0]:j[1]] += test_pred[:, :, :, 0]\n",
    "\n",
    "sum_windows = np.sum(windows, axis=0, dtype='float64')\n",
    "final_pred = sum_pred/sum_windows\n",
    "np.save('../data/final_pred_Cr_linear.npy', final_pred)"
   ]
  },
  {
   "attachments": {},
   "cell_type": "markdown",
   "metadata": {},
   "source": [
    "### Plotting Results"
   ]
  },
  {
   "cell_type": "code",
   "execution_count": 110,
   "metadata": {},
   "outputs": [
    {
     "data": {
      "image/png": "[encoded data removed]",
      "text/plain": [
       "<Figure size 1300x700 with 3 Axes>"
      ]
     },
     "metadata": {},
     "output_type": "display_data"
    }
   ],
   "source": [
    "test_X_crimes_only = np.load('../data/test_data.npy')\n",
    "final_pred = np.load('../data/final_pred_Cr_relu.npy')\n",
    "\n",
    "test_X_crimes_only[-1][mask_global == False] = np.nan\n",
    "\n",
    "final_pred_clip = np.clip(final_pred, 0, None)\n",
    "\n",
    "last_day_truth = test_X_crimes_only[-1]\n",
    "last_day_pred = final_pred_clip[-1]\n",
    "last_day_pred[mask_global == False] = np.nan\n",
    "\n",
    "fig, axs = plt.subplots(1, 2)\n",
    "fig.tight_layout(pad=-2)\n",
    "fig.set_figheight(7)\n",
    "fig.set_figwidth(13)\n",
    "im = axs[0].imshow(last_day_truth, cmap='jet', vmin=0, vmax=4)\n",
    "im = axs[1].imshow(last_day_pred, cmap='jet', vmin=0, vmax=4)\n",
    "axs[0].set_xticks([])\n",
    "axs[0].set_yticks([])\n",
    "axs[1].set_xticks([])\n",
    "axs[1].set_yticks([])\n",
    "cbar_ax = fig.add_axes([1.05, 0.07, 0.02, 0.9])\n",
    "fig.colorbar(im, orientation='vertical', cax=cbar_ax)\n",
    "plt.show()"
   ]
  },
  {
   "attachments": {},
   "cell_type": "markdown",
   "metadata": {},
   "source": [
    "### Final Scores"
   ]
  },
  {
   "cell_type": "code",
   "execution_count": 62,
   "metadata": {},
   "outputs": [
    {
     "name": "stdout",
     "output_type": "stream",
     "text": [
      "Hetero-ConvLSTM - MSE: 0.2506\n",
      "Hetero-ConvLSTM - RMSE: 0.5006\n"
     ]
    }
   ],
   "source": [
    "mse = np.nanmean(np.square(np.subtract(ground_truth, final_pred)))\n",
    "print(f'Hetero-ConvLSTM - MSE: {mse.mean():.4f}')\n",
    "print(f'Hetero-ConvLSTM - RMSE: {np.sqrt(mse).mean():.4f}')"
   ]
  }
 ],
 "metadata": {
  "kernelspec": {
   "display_name": "Python 3",
   "language": "python",
   "name": "python3"
  },
  "language_info": {
   "codemirror_mode": {
    "name": "ipython",
    "version": 3
   },
   "file_extension": ".py",
   "mimetype": "text/x-python",
   "name": "python",
   "nbconvert_exporter": "python",
   "pygments_lexer": "ipython3",
   "version": "3.8.5"
  },
  "orig_nbformat": 4,
  "vscode": {
   "interpreter": {
    "hash": "e50ee8028be34c8acb651c2714456cdf59d4b363a9a7ee8a172e40b9213c9d80"
   }
  }
 },
 "nbformat": 4,
 "nbformat_minor": 2
}
