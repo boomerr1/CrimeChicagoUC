{
 "cells": [
  {
   "cell_type": "code",
   "execution_count": 2,
   "metadata": {},
   "outputs": [],
   "source": [
    "import tensorflow as tf\n",
    "from tensorflow.keras import Input, layers, Model\n",
    "from tensorflow.keras.preprocessing.sequence import TimeseriesGenerator\n",
    "import numpy as np\n",
    "import matplotlib.pyplot as plt"
   ]
  },
  {
   "attachments": {},
   "cell_type": "markdown",
   "metadata": {},
   "source": [
    "### Creating Mask"
   ]
  },
  {
   "cell_type": "code",
   "execution_count": 6,
   "metadata": {},
   "outputs": [],
   "source": [
    "mask = np.load('../data/mask_global.npy')\n",
    "mask = tf.keras.backend.constant(mask)\n",
    "mask = tf.expand_dims(mask, -1)"
   ]
  },
  {
   "attachments": {},
   "cell_type": "markdown",
   "metadata": {},
   "source": [
    "### Training 4 Hetero-ConvLSTMS"
   ]
  },
  {
   "cell_type": "code",
   "execution_count": 7,
   "metadata": {},
   "outputs": [
    {
     "name": "stdout",
     "output_type": "stream",
     "text": [
      "912/912 [==============================] - 566s 610ms/step - loss: 0.3561 - mae: 0.2797\n",
      "90/90 [==============================] - 14s 145ms/step\n"
     ]
    }
   ],
   "source": [
    "lookback = 7\n",
    "batch_size = 4\n",
    "\n",
    "train_X_crimes_only = np.load('../data/train_data.npy')\n",
    "test_X_crimes_only = np.load('../data/test_data.npy')\n",
    "\n",
    "train_X_crimes_only = tf.expand_dims(train_X_crimes_only, -1)\n",
    "test_X_crimes_only = tf.expand_dims(test_X_crimes_only, -1)\n",
    "\n",
    "train_gen = TimeseriesGenerator(\n",
    "    train_X_crimes_only,\n",
    "    train_X_crimes_only,\n",
    "    length=lookback,\n",
    "    batch_size=batch_size,\n",
    "    shuffle=False\n",
    ")\n",
    "test_gen = TimeseriesGenerator(\n",
    "    test_X_crimes_only,\n",
    "    test_X_crimes_only,\n",
    "    length=lookback,\n",
    "    batch_size=batch_size,\n",
    "    shuffle=False\n",
    ")\n",
    "\n",
    "def masked_MSE_loss(y_true, y_pred):\n",
    "    y_pred_masked = tf.math.multiply(y_pred, mask)\n",
    "    mse = tf.keras.losses.mean_squared_error(y_true = y_true, y_pred = y_pred_masked)\n",
    "    return mse\n",
    "\n",
    "# Define the input tensors\n",
    "inputs = Input(shape=(lookback, *train_X_crimes_only.shape[1:]))\n",
    "\n",
    "# First stack of convlstm layers\n",
    "convlstm1 = layers.ConvLSTM2D(filters=128, kernel_size=(3, 3), padding='same', activation='tanh', return_sequences=True)(inputs)\n",
    "bathnorm1 = layers.BatchNormalization()(convlstm1)\n",
    "convlstm2 = layers.ConvLSTM2D(filters=128, kernel_size=(3, 3), padding='same', activation='tanh', return_sequences=False)(bathnorm1)\n",
    "\n",
    "# Second stack of convlstm layers\n",
    "convlstm3 = layers.ConvLSTM2D(filters=128, kernel_size=(3, 3), padding='same', activation='tanh', return_sequences=True)(inputs)\n",
    "batchnorm2 = layers.BatchNormalization()(convlstm3)\n",
    "convlstm4 = layers.ConvLSTM2D(filters=128, kernel_size=(3, 3), padding='same', activation='tanh', return_sequences=False)(batchnorm2)\n",
    "\n",
    "# Concatenate outputs of two stacks\n",
    "concatenation = layers.concatenate([convlstm2, convlstm4])\n",
    "outputs = layers.Conv2D(filters=1, kernel_size=1, padding=\"same\", activation='linear')(concatenation)\n",
    "\n",
    "# Create the model\n",
    "model = Model(inputs=inputs, outputs=outputs)\n",
    "\n",
    "# Compile the model\n",
    "model.compile(optimizer='adam', loss=masked_MSE_loss, metrics=['mae'])\n",
    "\n",
    "# Train the model\n",
    "model.fit(train_gen, epochs=1)\n",
    "\n",
    "# Create test prediction\n",
    "test_pred = model.predict(test_gen)\n",
    "test_pred *= mask"
   ]
  },
  {
   "cell_type": "code",
   "execution_count": 11,
   "metadata": {},
   "outputs": [],
   "source": [
    "np.save('../data/homo_convlstm.npy', test_pred)"
   ]
  }
 ],
 "metadata": {
  "kernelspec": {
   "display_name": "crime",
   "language": "python",
   "name": "python3"
  },
  "language_info": {
   "codemirror_mode": {
    "name": "ipython",
    "version": 3
   },
   "file_extension": ".py",
   "mimetype": "text/x-python",
   "name": "python",
   "nbconvert_exporter": "python",
   "pygments_lexer": "ipython3",
   "version": "3.9.15"
  },
  "orig_nbformat": 4,
  "vscode": {
   "interpreter": {
    "hash": "4b14694f9d98d06b4c720a75f58432860b4bffdd3460d816837e285a81284eb4"
   }
  }
 },
 "nbformat": 4,
 "nbformat_minor": 2
}
